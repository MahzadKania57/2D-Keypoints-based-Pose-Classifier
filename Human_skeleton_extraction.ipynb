{
  "cells": [
    {
      "cell_type": "markdown",
      "metadata": {
        "id": "view-in-github",
        "colab_type": "text"
      },
      "source": [
        "<a href=\"https://colab.research.google.com/github/MahzadKania57/2D-Keypoints-based-Pose-Classifier/blob/master/Human_skeleton_extraction.ipynb\" target=\"_parent\"><img src=\"https://colab.research.google.com/assets/colab-badge.svg\" alt=\"Open In Colab\"/></a>"
      ]
    },
    {
      "cell_type": "code",
      "execution_count": 2,
      "metadata": {
        "colab": {
          "base_uri": "https://localhost:8080/"
        },
        "id": "TsDldKFo6N4z",
        "outputId": "36650022-197c-4bee-f8c9-2ea3b25d310b"
      },
      "outputs": [
        {
          "output_type": "stream",
          "name": "stdout",
          "text": [
            "Cloning into '2D-Keypoints-based-Pose-Classifier'...\n",
            "remote: Enumerating objects: 78, done.\u001b[K\n",
            "remote: Counting objects: 100% (27/27), done.\u001b[K\n",
            "remote: Compressing objects: 100% (27/27), done.\u001b[K\n",
            "remote: Total 78 (delta 13), reused 0 (delta 0), pack-reused 51\u001b[K\n",
            "Unpacking objects: 100% (78/78), 765.36 KiB | 5.00 MiB/s, done.\n"
          ]
        }
      ],
      "source": [
        "!git clone https://github.com/MahzadKania57/2D-Keypoints-based-Pose-Classifier.git"
      ]
    },
    {
      "cell_type": "markdown",
      "metadata": {
        "id": "Ch9cS0LcAc1s"
      },
      "source": [
        "#Download Dataset"
      ]
    },
    {
      "cell_type": "code",
      "execution_count": 3,
      "metadata": {
        "colab": {
          "base_uri": "https://localhost:8080/"
        },
        "id": "yUHah-pp7Qj6",
        "outputId": "9f84e46d-f292-42c2-a739-54087ae7200f"
      },
      "outputs": [
        {
          "output_type": "stream",
          "name": "stdout",
          "text": [
            "/content/2D-Keypoints-based-Pose-Classifier\n"
          ]
        }
      ],
      "source": [
        "%cd /content/2D-Keypoints-based-Pose-Classifier/\n",
        "!mkdir dataset/raw\n",
        "!mkdir dataset/processed\n",
        "\n",
        "!mkdir dataset-test\n",
        "!mkdir dataset-test/raw\n",
        "!mkdir dataset-test/processed\n",
        "\n",
        "!cp dataset/X_train.txt dataset/raw/\n",
        "!cp dataset/Y_train.txt dataset/raw/\n",
        "\n",
        "!cp dataset/X_test.txt dataset-test/raw/\n",
        "!cp dataset/Y_test.txt dataset-test/raw/"
      ]
    },
    {
      "cell_type": "code",
      "execution_count": 4,
      "metadata": {
        "id": "39l3NOOK_vUj"
      },
      "outputs": [],
      "source": [
        "from utils import *"
      ]
    },
    {
      "cell_type": "code",
      "execution_count": 22,
      "metadata": {
        "colab": {
          "base_uri": "https://localhost:8080/",
          "height": 1000
        },
        "id": "58F6DKdFHIBV",
        "outputId": "38ec54c8-88aa-4ab5-9f70-73a43296e464"
      },
      "outputs": [
        {
          "output_type": "stream",
          "name": "stdout",
          "text": [
            "Looking in indexes: https://pypi.org/simple, https://us-python.pkg.dev/colab-wheels/public/simple/\n",
            "Looking in links: https://data.pyg.org/whl/torch-1.13.0+cu116.html\n",
            "Collecting pyg-lib\n",
            "  Downloading https://data.pyg.org/whl/torch-1.13.0%2Bcu116/pyg_lib-0.1.0%2Bpt113cu116-cp38-cp38-linux_x86_64.whl (1.9 MB)\n",
            "\u001b[2K     \u001b[90m━━━━━━━━━━━━━━━━━━━━━━━━━━━━━━━━━━━━━━━━\u001b[0m \u001b[32m1.9/1.9 MB\u001b[0m \u001b[31m40.8 MB/s\u001b[0m eta \u001b[36m0:00:00\u001b[0m\n",
            "\u001b[?25hCollecting torch-scatter\n",
            "  Downloading https://data.pyg.org/whl/torch-1.13.0%2Bcu116/torch_scatter-2.1.0%2Bpt113cu116-cp38-cp38-linux_x86_64.whl (9.4 MB)\n",
            "\u001b[2K     \u001b[90m━━━━━━━━━━━━━━━━━━━━━━━━━━━━━━━━━━━━━━━━\u001b[0m \u001b[32m9.4/9.4 MB\u001b[0m \u001b[31m75.4 MB/s\u001b[0m eta \u001b[36m0:00:00\u001b[0m\n",
            "\u001b[?25hCollecting torch-sparse\n",
            "  Downloading https://data.pyg.org/whl/torch-1.13.0%2Bcu116/torch_sparse-0.6.16%2Bpt113cu116-cp38-cp38-linux_x86_64.whl (4.5 MB)\n",
            "\u001b[2K     \u001b[90m━━━━━━━━━━━━━━━━━━━━━━━━━━━━━━━━━━━━━━━━\u001b[0m \u001b[32m4.5/4.5 MB\u001b[0m \u001b[31m106.0 MB/s\u001b[0m eta \u001b[36m0:00:00\u001b[0m\n",
            "\u001b[?25hCollecting torch-cluster\n",
            "  Downloading https://data.pyg.org/whl/torch-1.13.0%2Bcu116/torch_cluster-1.6.0%2Bpt113cu116-cp38-cp38-linux_x86_64.whl (3.2 MB)\n",
            "\u001b[2K     \u001b[90m━━━━━━━━━━━━━━━━━━━━━━━━━━━━━━━━━━━━━━━━\u001b[0m \u001b[32m3.2/3.2 MB\u001b[0m \u001b[31m85.7 MB/s\u001b[0m eta \u001b[36m0:00:00\u001b[0m\n",
            "\u001b[?25hCollecting torch-spline-conv\n",
            "  Downloading https://data.pyg.org/whl/torch-1.13.0%2Bcu116/torch_spline_conv-1.2.1%2Bpt113cu116-cp38-cp38-linux_x86_64.whl (873 kB)\n",
            "\u001b[2K     \u001b[90m━━━━━━━━━━━━━━━━━━━━━━━━━━━━━━━━━━━━━━\u001b[0m \u001b[32m873.9/873.9 KB\u001b[0m \u001b[31m51.2 MB/s\u001b[0m eta \u001b[36m0:00:00\u001b[0m\n",
            "\u001b[?25hCollecting torch-geometric\n",
            "  Downloading torch_geometric-2.2.0.tar.gz (564 kB)\n",
            "\u001b[2K     \u001b[90m━━━━━━━━━━━━━━━━━━━━━━━━━━━━━━━━━━━━━━\u001b[0m \u001b[32m565.0/565.0 KB\u001b[0m \u001b[31m26.7 MB/s\u001b[0m eta \u001b[36m0:00:00\u001b[0m\n",
            "\u001b[?25h  Preparing metadata (setup.py) ... \u001b[?25l\u001b[?25hdone\n",
            "Requirement already satisfied: scipy in /usr/local/lib/python3.8/dist-packages (from torch-sparse) (1.7.3)\n",
            "Requirement already satisfied: tqdm in /usr/local/lib/python3.8/dist-packages (from torch-geometric) (4.64.1)\n",
            "Requirement already satisfied: numpy in /usr/local/lib/python3.8/dist-packages (from torch-geometric) (1.21.6)\n",
            "Requirement already satisfied: jinja2 in /usr/local/lib/python3.8/dist-packages (from torch-geometric) (2.11.3)\n",
            "Requirement already satisfied: requests in /usr/local/lib/python3.8/dist-packages (from torch-geometric) (2.25.1)\n",
            "Requirement already satisfied: pyparsing in /usr/local/lib/python3.8/dist-packages (from torch-geometric) (3.0.9)\n",
            "Requirement already satisfied: scikit-learn in /usr/local/lib/python3.8/dist-packages (from torch-geometric) (1.0.2)\n",
            "Collecting psutil>=5.8.0\n",
            "  Downloading psutil-5.9.4-cp36-abi3-manylinux_2_12_x86_64.manylinux2010_x86_64.manylinux_2_17_x86_64.manylinux2014_x86_64.whl (280 kB)\n",
            "\u001b[2K     \u001b[90m━━━━━━━━━━━━━━━━━━━━━━━━━━━━━━━━━━━━━━\u001b[0m \u001b[32m280.2/280.2 KB\u001b[0m \u001b[31m36.3 MB/s\u001b[0m eta \u001b[36m0:00:00\u001b[0m\n",
            "\u001b[?25hRequirement already satisfied: MarkupSafe>=0.23 in /usr/local/lib/python3.8/dist-packages (from jinja2->torch-geometric) (2.0.1)\n",
            "Requirement already satisfied: chardet<5,>=3.0.2 in /usr/local/lib/python3.8/dist-packages (from requests->torch-geometric) (4.0.0)\n",
            "Requirement already satisfied: idna<3,>=2.5 in /usr/local/lib/python3.8/dist-packages (from requests->torch-geometric) (2.10)\n",
            "Requirement already satisfied: certifi>=2017.4.17 in /usr/local/lib/python3.8/dist-packages (from requests->torch-geometric) (2022.12.7)\n",
            "Requirement already satisfied: urllib3<1.27,>=1.21.1 in /usr/local/lib/python3.8/dist-packages (from requests->torch-geometric) (1.24.3)\n",
            "Requirement already satisfied: threadpoolctl>=2.0.0 in /usr/local/lib/python3.8/dist-packages (from scikit-learn->torch-geometric) (3.1.0)\n",
            "Requirement already satisfied: joblib>=0.11 in /usr/local/lib/python3.8/dist-packages (from scikit-learn->torch-geometric) (1.2.0)\n",
            "Building wheels for collected packages: torch-geometric\n",
            "  Building wheel for torch-geometric (setup.py) ... \u001b[?25l\u001b[?25hdone\n",
            "  Created wheel for torch-geometric: filename=torch_geometric-2.2.0-py3-none-any.whl size=773302 sha256=12754c09411580163a1e13bb4c968f15c6fd44ddd8d8db6ee14b1b284b6c4b7e\n",
            "  Stored in directory: /root/.cache/pip/wheels/59/a3/20/198928106d3169865ae73afcbd3d3d1796cf6b429b55c65378\n",
            "Successfully built torch-geometric\n",
            "Installing collected packages: torch-spline-conv, torch-scatter, pyg-lib, psutil, torch-sparse, torch-cluster, torch-geometric\n",
            "  Attempting uninstall: psutil\n",
            "    Found existing installation: psutil 5.4.8\n",
            "    Uninstalling psutil-5.4.8:\n",
            "      Successfully uninstalled psutil-5.4.8\n",
            "Successfully installed psutil-5.9.4 pyg-lib-0.1.0+pt113cu116 torch-cluster-1.6.0+pt113cu116 torch-geometric-2.2.0 torch-scatter-2.1.0+pt113cu116 torch-sparse-0.6.16+pt113cu116 torch-spline-conv-1.2.1+pt113cu116\n"
          ]
        },
        {
          "output_type": "display_data",
          "data": {
            "application/vnd.colab-display-data+json": {
              "pip_warning": {
                "packages": [
                  "psutil"
                ]
              }
            }
          },
          "metadata": {}
        }
      ],
      "source": [
        "!pip install pyg-lib torch-scatter torch-sparse torch-cluster torch-spline-conv torch-geometric -f https://data.pyg.org/whl/torch-1.13.0+cu116.html"
      ]
    },
    {
      "cell_type": "markdown",
      "metadata": {
        "id": "EposkOv0AuG8"
      },
      "source": [
        "# **Create edge_index**"
      ]
    },
    {
      "cell_type": "code",
      "execution_count": 5,
      "metadata": {
        "id": "npBffrnuKxXd"
      },
      "outputs": [],
      "source": [
        "from scipy.sparse import csc_matrix\n",
        "import torch"
      ]
    },
    {
      "cell_type": "code",
      "execution_count": 6,
      "metadata": {
        "id": "Zg4zpJr8cJho"
      },
      "outputs": [],
      "source": [
        "#create sparse matrix\n",
        "i = np.array([0, 1, 1, 1, 1, 1, 2, 2, 3, 3, 4, 5, 5, 6, 6, 7, 8, 8, 9, 9, 10, 11, 11, 12, 12, 13])\n",
        "j = np.array([1, 0, 2, 5, 8, 11, 1, 3, 2, 4, 3, 1, 6, 5, 7, 6, 1, 9, 8, 10, 9, 1, 12, 11, 13, 12])\n",
        "\n",
        "\n",
        "degree = np.array([1, 1, 1, 1, 1, 1, 1, 1, 1, 1, 1, 1, 1, 1, 1, 1, 1, 1, 1, 1, 1, 1, 1, 1, 1, 1])"
      ]
    },
    {
      "cell_type": "code",
      "execution_count": 7,
      "metadata": {
        "id": "7SHtKx9DG3gz"
      },
      "outputs": [],
      "source": [
        "edge_index = csc_matrix((degree, (i, j)), shape = (14, 14)).tocoo()"
      ]
    },
    {
      "cell_type": "code",
      "execution_count": 8,
      "metadata": {
        "colab": {
          "base_uri": "https://localhost:8080/"
        },
        "id": "dtlkwKI7N085",
        "outputId": "3cc4deb5-8178-45fa-febb-d6c511101e6e"
      },
      "outputs": [
        {
          "output_type": "execute_result",
          "data": {
            "text/plain": [
              "26"
            ]
          },
          "metadata": {},
          "execution_count": 8
        }
      ],
      "source": [
        "edge_index.size"
      ]
    },
    {
      "cell_type": "code",
      "execution_count": 9,
      "metadata": {
        "colab": {
          "base_uri": "https://localhost:8080/"
        },
        "id": "jAAlhl9IG6tt",
        "outputId": "0c0e7994-75aa-4102-97de-a8cddc65c2a4"
      },
      "outputs": [
        {
          "output_type": "stream",
          "name": "stdout",
          "text": [
            "  (1, 0)\t1\n",
            "  (0, 1)\t1\n",
            "  (2, 1)\t1\n",
            "  (5, 1)\t1\n",
            "  (8, 1)\t1\n",
            "  (11, 1)\t1\n",
            "  (1, 2)\t1\n",
            "  (3, 2)\t1\n",
            "  (2, 3)\t1\n",
            "  (4, 3)\t1\n",
            "  (3, 4)\t1\n",
            "  (1, 5)\t1\n",
            "  (6, 5)\t1\n",
            "  (5, 6)\t1\n",
            "  (7, 6)\t1\n",
            "  (6, 7)\t1\n",
            "  (1, 8)\t1\n",
            "  (9, 8)\t1\n",
            "  (8, 9)\t1\n",
            "  (10, 9)\t1\n",
            "  (9, 10)\t1\n",
            "  (1, 11)\t1\n",
            "  (12, 11)\t1\n",
            "  (11, 12)\t1\n",
            "  (13, 12)\t1\n",
            "  (12, 13)\t1\n"
          ]
        }
      ],
      "source": [
        "print(edge_index)"
      ]
    },
    {
      "cell_type": "code",
      "execution_count": 10,
      "metadata": {
        "id": "EcdJlZXOAmml"
      },
      "outputs": [],
      "source": [
        "i = torch.from_numpy(i).to(torch.long)\n",
        "j = torch.from_numpy(j).to(torch.long)"
      ]
    },
    {
      "cell_type": "code",
      "execution_count": 11,
      "metadata": {
        "id": "Y03CnvEZApDq"
      },
      "outputs": [],
      "source": [
        "edge_index =  torch.stack([i,j], dim=0)"
      ]
    },
    {
      "cell_type": "markdown",
      "metadata": {
        "id": "-_-gFnX9iaiz"
      },
      "source": [
        "# **Create Dataset**"
      ]
    },
    {
      "cell_type": "code",
      "execution_count": 23,
      "metadata": {
        "id": "W7g-fRSY3eko"
      },
      "outputs": [],
      "source": [
        "import os.path as osp\n",
        "from torch_geometric.data import Data, Dataset\n",
        "from torch_geometric.loader import DataLoader"
      ]
    },
    {
      "cell_type": "code",
      "execution_count": 24,
      "metadata": {
        "id": "YrKMKdJefguj"
      },
      "outputs": [],
      "source": [
        "class SkeletonDataset(Dataset):\n",
        "    def __init__(self, root, x_root, y_root):\n",
        "      self.x_root = x_root\n",
        "      self.y_root = y_root\n",
        "      super().__init__(root)\n",
        "\n",
        "    @property\n",
        "    def raw_file_names(self):\n",
        "      return [self.x_root, self.y_root]\n",
        "\n",
        "    @property\n",
        "    def processed_file_names(self):\n",
        "      return \"data.pt\"\n",
        "        \n",
        "\n",
        "    def process(self):\n",
        "      X_ = load_X(self.raw_paths[0])\n",
        "      Y = load_Y(self.raw_paths[1])\n",
        "\n",
        "      X = norm_X(X_)\n",
        "      X = X.reshape(X.shape[0], -1, 2)\n",
        "      X = X[:, :14, :]\n",
        "\n",
        "      self.X = torch.from_numpy(X).to(torch.float)\n",
        "      self.Y = torch.from_numpy(Y).to(torch.long)\n",
        "      idx = 0\n",
        "      for i in range(0, X.shape[0]):\n",
        "        # Read data\n",
        "        data = Data(x= self.X[i], edge_index=edge_index, y=self.Y[i])\n",
        "        torch.save(data, osp.join(self.processed_dir, f'data_{idx}.pt'))\n",
        "        idx += 1\n",
        "\n",
        "    def len(self):\n",
        "      return self.X.shape[0]\n",
        "\n",
        "    def get(self, idx):\n",
        "      data = torch.load(osp.join(self.processed_dir, f'data_{idx}.pt'))\n",
        "      return data"
      ]
    },
    {
      "cell_type": "code",
      "execution_count": 25,
      "metadata": {
        "colab": {
          "base_uri": "https://localhost:8080/"
        },
        "id": "KZZTgt1agcsH",
        "outputId": "64964ccc-5b75-4ca9-c440-7633ec05be4b"
      },
      "outputs": [
        {
          "output_type": "stream",
          "name": "stderr",
          "text": [
            "Processing...\n",
            "Done!\n"
          ]
        }
      ],
      "source": [
        "train_dataset = SkeletonDataset(root='/content/2D-Keypoints-based-Pose-Classifier/dataset', x_root='X_train.txt', y_root='Y_train.txt')"
      ]
    },
    {
      "cell_type": "code",
      "execution_count": 26,
      "metadata": {
        "colab": {
          "base_uri": "https://localhost:8080/"
        },
        "id": "6Vf3sicn2JKO",
        "outputId": "22efe24c-3e49-495e-e838-afe6cf73b066"
      },
      "outputs": [
        {
          "output_type": "stream",
          "name": "stderr",
          "text": [
            "Processing...\n",
            "Done!\n"
          ]
        }
      ],
      "source": [
        "test_dataset = SkeletonDataset(root='/content/2D-Keypoints-based-Pose-Classifier/dataset-test', x_root='X_test.txt', y_root='Y_test.txt')"
      ]
    },
    {
      "cell_type": "code",
      "execution_count": 27,
      "metadata": {
        "colab": {
          "base_uri": "https://localhost:8080/"
        },
        "id": "V3h4dsgr8wVc",
        "outputId": "fa80b903-9842-4d1b-d480-cda899c13d4d"
      },
      "outputs": [
        {
          "output_type": "execute_result",
          "data": {
            "text/plain": [
              "(2676, 701)"
            ]
          },
          "metadata": {},
          "execution_count": 27
        }
      ],
      "source": [
        "train_dataset.len(), test_dataset.len()"
      ]
    },
    {
      "cell_type": "code",
      "execution_count": 28,
      "metadata": {
        "id": "cdJ0U_rR91cm"
      },
      "outputs": [],
      "source": [
        "train_loader = DataLoader(train_dataset, batch_size=32, shuffle=True)\n",
        "test_loader = DataLoader(test_dataset, batch_size=32, shuffle=False)"
      ]
    },
    {
      "cell_type": "code",
      "execution_count": 29,
      "metadata": {
        "colab": {
          "base_uri": "https://localhost:8080/"
        },
        "id": "hMuIEBQb-UKu",
        "outputId": "a0d10002-1348-4919-8571-faa781a7ca00"
      },
      "outputs": [
        {
          "output_type": "stream",
          "name": "stdout",
          "text": [
            "Step 1:\n",
            "=======\n",
            "Number of graphs in the current batch: 32\n",
            "DataBatch(x=[448, 2], edge_index=[2, 832], y=[32], batch=[448], ptr=[33])\n",
            "Step 2:\n",
            "=======\n",
            "Number of graphs in the current batch: 32\n",
            "DataBatch(x=[448, 2], edge_index=[2, 832], y=[32], batch=[448], ptr=[33])\n",
            "Step 3:\n",
            "=======\n",
            "Number of graphs in the current batch: 32\n",
            "DataBatch(x=[448, 2], edge_index=[2, 832], y=[32], batch=[448], ptr=[33])\n",
            "Step 4:\n",
            "=======\n",
            "Number of graphs in the current batch: 32\n",
            "DataBatch(x=[448, 2], edge_index=[2, 832], y=[32], batch=[448], ptr=[33])\n",
            "Step 5:\n",
            "=======\n",
            "Number of graphs in the current batch: 32\n",
            "DataBatch(x=[448, 2], edge_index=[2, 832], y=[32], batch=[448], ptr=[33])\n",
            "Step 6:\n",
            "=======\n",
            "Number of graphs in the current batch: 32\n",
            "DataBatch(x=[448, 2], edge_index=[2, 832], y=[32], batch=[448], ptr=[33])\n",
            "Step 7:\n",
            "=======\n",
            "Number of graphs in the current batch: 32\n",
            "DataBatch(x=[448, 2], edge_index=[2, 832], y=[32], batch=[448], ptr=[33])\n",
            "Step 8:\n",
            "=======\n",
            "Number of graphs in the current batch: 32\n",
            "DataBatch(x=[448, 2], edge_index=[2, 832], y=[32], batch=[448], ptr=[33])\n",
            "Step 9:\n",
            "=======\n",
            "Number of graphs in the current batch: 32\n",
            "DataBatch(x=[448, 2], edge_index=[2, 832], y=[32], batch=[448], ptr=[33])\n",
            "Step 10:\n",
            "=======\n",
            "Number of graphs in the current batch: 32\n",
            "DataBatch(x=[448, 2], edge_index=[2, 832], y=[32], batch=[448], ptr=[33])\n",
            "Step 11:\n",
            "=======\n",
            "Number of graphs in the current batch: 32\n",
            "DataBatch(x=[448, 2], edge_index=[2, 832], y=[32], batch=[448], ptr=[33])\n",
            "Step 12:\n",
            "=======\n",
            "Number of graphs in the current batch: 32\n",
            "DataBatch(x=[448, 2], edge_index=[2, 832], y=[32], batch=[448], ptr=[33])\n",
            "Step 13:\n",
            "=======\n",
            "Number of graphs in the current batch: 32\n",
            "DataBatch(x=[448, 2], edge_index=[2, 832], y=[32], batch=[448], ptr=[33])\n",
            "Step 14:\n",
            "=======\n",
            "Number of graphs in the current batch: 32\n",
            "DataBatch(x=[448, 2], edge_index=[2, 832], y=[32], batch=[448], ptr=[33])\n",
            "Step 15:\n",
            "=======\n",
            "Number of graphs in the current batch: 32\n",
            "DataBatch(x=[448, 2], edge_index=[2, 832], y=[32], batch=[448], ptr=[33])\n",
            "Step 16:\n",
            "=======\n",
            "Number of graphs in the current batch: 32\n",
            "DataBatch(x=[448, 2], edge_index=[2, 832], y=[32], batch=[448], ptr=[33])\n",
            "Step 17:\n",
            "=======\n",
            "Number of graphs in the current batch: 32\n",
            "DataBatch(x=[448, 2], edge_index=[2, 832], y=[32], batch=[448], ptr=[33])\n",
            "Step 18:\n",
            "=======\n",
            "Number of graphs in the current batch: 32\n",
            "DataBatch(x=[448, 2], edge_index=[2, 832], y=[32], batch=[448], ptr=[33])\n",
            "Step 19:\n",
            "=======\n",
            "Number of graphs in the current batch: 32\n",
            "DataBatch(x=[448, 2], edge_index=[2, 832], y=[32], batch=[448], ptr=[33])\n",
            "Step 20:\n",
            "=======\n",
            "Number of graphs in the current batch: 32\n",
            "DataBatch(x=[448, 2], edge_index=[2, 832], y=[32], batch=[448], ptr=[33])\n",
            "Step 21:\n",
            "=======\n",
            "Number of graphs in the current batch: 32\n",
            "DataBatch(x=[448, 2], edge_index=[2, 832], y=[32], batch=[448], ptr=[33])\n",
            "Step 22:\n",
            "=======\n",
            "Number of graphs in the current batch: 29\n",
            "DataBatch(x=[406, 2], edge_index=[2, 754], y=[29], batch=[406], ptr=[30])\n"
          ]
        }
      ],
      "source": [
        "for step, data in enumerate(test_loader):\n",
        "  print(f'Step {step + 1}:')\n",
        "  print('=======')\n",
        "  print(f'Number of graphs in the current batch: {data.num_graphs}')\n",
        "  print(data)"
      ]
    },
    {
      "cell_type": "markdown",
      "metadata": {
        "id": "UWkyupWzeOr5"
      },
      "source": [
        "# **Visualize Graph**"
      ]
    },
    {
      "cell_type": "code",
      "execution_count": 30,
      "metadata": {
        "colab": {
          "base_uri": "https://localhost:8080/",
          "height": 529
        },
        "id": "uxkB2Tdkhaw2",
        "outputId": "38bc11b1-e291-4c0d-ae76-6bd6cf1b7d2a"
      },
      "outputs": [
        {
          "output_type": "display_data",
          "data": {
            "text/plain": [
              "<PIL.Image.Image image mode=L size=512x512 at 0x7FFA2D84FB20>"
            ],
            "image/png": "[encoded data removed]"
          },
          "metadata": {}
        }
      ],
      "source": [
        "draw_graph(train_dataset[30].x, edge_index)"
      ]
    },
    {
      "cell_type": "markdown",
      "metadata": {
        "id": "Lrn1FkdziDGE"
      },
      "source": [
        "# **Train The Graph convolution Network**"
      ]
    },
    {
      "cell_type": "code",
      "execution_count": 38,
      "metadata": {
        "id": "8TIP3ZWQiRcR"
      },
      "outputs": [],
      "source": [
        "from torch.nn import Linear, BatchNorm1d\n",
        "import torch.nn.functional as F\n",
        "from torch_geometric.nn import GCNConv\n",
        "from torch_geometric.nn import global_mean_pool"
      ]
    },
    {
      "cell_type": "code",
      "execution_count": 39,
      "metadata": {
        "id": "JIj12UYgiXmg"
      },
      "outputs": [],
      "source": [
        "class GCN(torch.nn.Module):\n",
        "  def __init__(self, hidden_channels, num_node_features, num_classes):\n",
        "    super().__init__()\n",
        "    torch.manual_seed(12345)\n",
        "\n",
        "    self.BN = BatchNorm1d(num_node_features)\n",
        "    self.conv1 = GCNConv(num_node_features, hidden_channels)\n",
        "    self.conv2 = GCNConv(hidden_channels, hidden_channels)\n",
        "    self.conv3 = GCNConv(hidden_channels, hidden_channels*2)\n",
        "    self.conv4 = GCNConv(hidden_channels*2, hidden_channels*2)\n",
        "    self.lin = Linear(hidden_channels*2, num_classes)\n",
        "\n",
        "  def forward(self, x, edge_index, batch):\n",
        "    #1. Obtain node embeddings\n",
        "    x = self.BN(x)\n",
        "    x = self.conv1(x, edge_index) \n",
        "    x = F.relu(x)\n",
        "    x = self.conv2(x, edge_index)\n",
        "    x = F.relu(x)\n",
        "    x = self.conv3(x, edge_index)\n",
        "    x = F.relu(x)\n",
        "    x = self.conv4(x, edge_index)\n",
        "\n",
        "    #2. Readout layers(get graph embeddings)\n",
        "    x = global_mean_pool(x, batch) #[batch-size, hidden_channels]\n",
        "  \n",
        "    #3. Apply a final classifier\n",
        "    x = F.dropout(x, p=0.3, training= self.training)\n",
        "    x = self.lin(x)\n",
        "    \n",
        "    return x"
      ]
    },
    {
      "cell_type": "code",
      "execution_count": 40,
      "metadata": {
        "id": "culTlJ7xA_Od"
      },
      "outputs": [],
      "source": [
        "model = GCN(32, train_dataset.num_node_features, train_dataset.num_classes)\n",
        "optimizer = torch.optim.Adam(model.parameters(), lr=0.005)\n",
        "loss_fn = torch.nn.CrossEntropyLoss()\n",
        "#lr_scheduler = torch.optim.lr_scheduler.StepLR(optimizer, step_size=10)"
      ]
    },
    {
      "cell_type": "code",
      "execution_count": 41,
      "metadata": {
        "colab": {
          "base_uri": "https://localhost:8080/"
        },
        "id": "o9mwbIABBKLi",
        "outputId": "c7fcc2b2-34d2-4d00-edd0-73c2b10d241b"
      },
      "outputs": [
        {
          "output_type": "stream",
          "name": "stdout",
          "text": [
            "GCN(\n",
            "  (BN): BatchNorm1d(2, eps=1e-05, momentum=0.1, affine=True, track_running_stats=True)\n",
            "  (conv1): GCNConv(2, 32)\n",
            "  (conv2): GCNConv(32, 32)\n",
            "  (conv3): GCNConv(32, 64)\n",
            "  (conv4): GCNConv(64, 64)\n",
            "  (lin): Linear(in_features=64, out_features=3, bias=True)\n",
            ")\n"
          ]
        }
      ],
      "source": [
        "print(model)"
      ]
    },
    {
      "cell_type": "code",
      "execution_count": 42,
      "metadata": {
        "id": "SCmIpUDRBMwz"
      },
      "outputs": [],
      "source": [
        "def train():\n",
        "  model.train()\n",
        "\n",
        "  for data in train_loader:\n",
        "    out = model(data.x, data.edge_index, data.batch)\n",
        "    loss = loss_fn(out, data.y)\n",
        "    loss.backward()  # Derive gradients.\n",
        "    optimizer.step()  # Update parameters based on gradients.\n",
        "   # lr_scheduler.step(loss)\n",
        "    optimizer.zero_grad() # Clear gradients."
      ]
    },
    {
      "cell_type": "code",
      "execution_count": 43,
      "metadata": {
        "id": "-HyLujKsBqeG"
      },
      "outputs": [],
      "source": [
        "@torch.no_grad()\n",
        "def test(loader):\n",
        "  model.eval()\n",
        "\n",
        "  correct = 0\n",
        "  for data in loader:\n",
        "    out = model(data.x, data.edge_index, data.batch)\n",
        "    pred = out.argmax(dim=1)\n",
        "    correct += int((pred == data.y).sum())\n",
        "  return correct/len(loader.dataset)"
      ]
    },
    {
      "cell_type": "code",
      "execution_count": 44,
      "metadata": {
        "colab": {
          "base_uri": "https://localhost:8080/"
        },
        "id": "GrKxla2pB8rU",
        "outputId": "60fe2028-9cbe-487d-a0bf-5ba7483851be"
      },
      "outputs": [
        {
          "output_type": "stream",
          "name": "stdout",
          "text": [
            "Epoch: 001, Train Acc: 0.8528, Test Acc: 0.8274\n",
            "Epoch: 002, Train Acc: 0.8546, Test Acc: 0.8616\n",
            "Epoch: 003, Train Acc: 0.8558, Test Acc: 0.8417\n",
            "Epoch: 004, Train Acc: 0.8707, Test Acc: 0.8459\n",
            "Epoch: 005, Train Acc: 0.8614, Test Acc: 0.8631\n",
            "Epoch: 006, Train Acc: 0.8647, Test Acc: 0.8488\n",
            "Epoch: 007, Train Acc: 0.8677, Test Acc: 0.8659\n",
            "Epoch: 008, Train Acc: 0.9028, Test Acc: 0.8944\n",
            "Epoch: 009, Train Acc: 0.8995, Test Acc: 0.8930\n",
            "Epoch: 010, Train Acc: 0.8741, Test Acc: 0.8973\n",
            "Epoch: 011, Train Acc: 0.8980, Test Acc: 0.8916\n",
            "Epoch: 012, Train Acc: 0.9099, Test Acc: 0.9030\n",
            "Epoch: 013, Train Acc: 0.8883, Test Acc: 0.8802\n",
            "Epoch: 014, Train Acc: 0.9114, Test Acc: 0.8973\n",
            "Epoch: 015, Train Acc: 0.9122, Test Acc: 0.9016\n",
            "Epoch: 016, Train Acc: 0.9070, Test Acc: 0.9073\n",
            "Epoch: 017, Train Acc: 0.9271, Test Acc: 0.9258\n",
            "Epoch: 018, Train Acc: 0.9025, Test Acc: 0.9001\n",
            "Epoch: 019, Train Acc: 0.9163, Test Acc: 0.9044\n",
            "Epoch: 020, Train Acc: 0.9036, Test Acc: 0.8902\n",
            "Epoch: 021, Train Acc: 0.9133, Test Acc: 0.8973\n",
            "Epoch: 022, Train Acc: 0.8987, Test Acc: 0.8745\n",
            "Epoch: 023, Train Acc: 0.9163, Test Acc: 0.8973\n",
            "Epoch: 024, Train Acc: 0.9092, Test Acc: 0.9016\n",
            "Epoch: 025, Train Acc: 0.9215, Test Acc: 0.9044\n",
            "Epoch: 026, Train Acc: 0.8528, Test Acc: 0.8459\n",
            "Epoch: 027, Train Acc: 0.9249, Test Acc: 0.9087\n",
            "Epoch: 028, Train Acc: 0.9339, Test Acc: 0.9144\n",
            "Epoch: 029, Train Acc: 0.9316, Test Acc: 0.9144\n",
            "Epoch: 030, Train Acc: 0.9275, Test Acc: 0.9058\n",
            "Epoch: 031, Train Acc: 0.9417, Test Acc: 0.9301\n",
            "Epoch: 032, Train Acc: 0.9350, Test Acc: 0.9230\n",
            "Epoch: 033, Train Acc: 0.9096, Test Acc: 0.8830\n",
            "Epoch: 034, Train Acc: 0.9264, Test Acc: 0.9087\n",
            "Epoch: 035, Train Acc: 0.9346, Test Acc: 0.9258\n",
            "Epoch: 036, Train Acc: 0.9391, Test Acc: 0.9187\n",
            "Epoch: 037, Train Acc: 0.9357, Test Acc: 0.9201\n",
            "Epoch: 038, Train Acc: 0.9432, Test Acc: 0.9344\n",
            "Epoch: 039, Train Acc: 0.9376, Test Acc: 0.9201\n",
            "Epoch: 040, Train Acc: 0.9443, Test Acc: 0.9301\n",
            "Epoch: 041, Train Acc: 0.9309, Test Acc: 0.9173\n",
            "Epoch: 042, Train Acc: 0.9346, Test Acc: 0.9230\n",
            "Epoch: 043, Train Acc: 0.9503, Test Acc: 0.9287\n",
            "Epoch: 044, Train Acc: 0.9432, Test Acc: 0.9173\n",
            "Epoch: 045, Train Acc: 0.9309, Test Acc: 0.9073\n",
            "Epoch: 046, Train Acc: 0.9473, Test Acc: 0.9301\n",
            "Epoch: 047, Train Acc: 0.9417, Test Acc: 0.9301\n",
            "Epoch: 048, Train Acc: 0.9238, Test Acc: 0.9101\n",
            "Epoch: 049, Train Acc: 0.9365, Test Acc: 0.9144\n",
            "Epoch: 050, Train Acc: 0.9025, Test Acc: 0.8873\n",
            "Epoch: 051, Train Acc: 0.9241, Test Acc: 0.8973\n",
            "Epoch: 052, Train Acc: 0.9357, Test Acc: 0.9173\n",
            "Epoch: 053, Train Acc: 0.9473, Test Acc: 0.9344\n",
            "Epoch: 054, Train Acc: 0.9484, Test Acc: 0.9215\n",
            "Epoch: 055, Train Acc: 0.9339, Test Acc: 0.9016\n",
            "Epoch: 056, Train Acc: 0.9368, Test Acc: 0.9116\n",
            "Epoch: 057, Train Acc: 0.9159, Test Acc: 0.9001\n",
            "Epoch: 058, Train Acc: 0.9529, Test Acc: 0.9272\n",
            "Epoch: 059, Train Acc: 0.9447, Test Acc: 0.9287\n",
            "Epoch: 060, Train Acc: 0.9473, Test Acc: 0.9144\n",
            "Epoch: 061, Train Acc: 0.9417, Test Acc: 0.9330\n",
            "Epoch: 062, Train Acc: 0.9447, Test Acc: 0.9344\n",
            "Epoch: 063, Train Acc: 0.9466, Test Acc: 0.9244\n",
            "Epoch: 064, Train Acc: 0.9417, Test Acc: 0.9215\n",
            "Epoch: 065, Train Acc: 0.9570, Test Acc: 0.9387\n",
            "Epoch: 066, Train Acc: 0.9339, Test Acc: 0.9116\n",
            "Epoch: 067, Train Acc: 0.9462, Test Acc: 0.9301\n",
            "Epoch: 068, Train Acc: 0.9567, Test Acc: 0.9315\n",
            "Epoch: 069, Train Acc: 0.9428, Test Acc: 0.9087\n",
            "Epoch: 070, Train Acc: 0.9615, Test Acc: 0.9415\n",
            "Epoch: 071, Train Acc: 0.9533, Test Acc: 0.9330\n",
            "Epoch: 072, Train Acc: 0.9537, Test Acc: 0.9330\n",
            "Epoch: 073, Train Acc: 0.9425, Test Acc: 0.9187\n",
            "Epoch: 074, Train Acc: 0.9548, Test Acc: 0.9301\n",
            "Epoch: 075, Train Acc: 0.9413, Test Acc: 0.9173\n",
            "Epoch: 076, Train Acc: 0.9417, Test Acc: 0.9301\n",
            "Epoch: 077, Train Acc: 0.9544, Test Acc: 0.9201\n",
            "Epoch: 078, Train Acc: 0.9589, Test Acc: 0.9258\n",
            "Epoch: 079, Train Acc: 0.9529, Test Acc: 0.9330\n",
            "Epoch: 080, Train Acc: 0.9507, Test Acc: 0.9244\n",
            "Epoch: 081, Train Acc: 0.9462, Test Acc: 0.9244\n",
            "Epoch: 082, Train Acc: 0.9563, Test Acc: 0.9330\n",
            "Epoch: 083, Train Acc: 0.9402, Test Acc: 0.9158\n",
            "Epoch: 084, Train Acc: 0.9488, Test Acc: 0.9244\n",
            "Epoch: 085, Train Acc: 0.9507, Test Acc: 0.9301\n",
            "Epoch: 086, Train Acc: 0.9533, Test Acc: 0.9315\n",
            "Epoch: 087, Train Acc: 0.9608, Test Acc: 0.9429\n",
            "Epoch: 088, Train Acc: 0.9428, Test Acc: 0.9272\n",
            "Epoch: 089, Train Acc: 0.9391, Test Acc: 0.9058\n",
            "Epoch: 090, Train Acc: 0.9555, Test Acc: 0.9344\n",
            "Epoch: 091, Train Acc: 0.9540, Test Acc: 0.9272\n",
            "Epoch: 092, Train Acc: 0.9581, Test Acc: 0.9315\n",
            "Epoch: 093, Train Acc: 0.9544, Test Acc: 0.9301\n",
            "Epoch: 094, Train Acc: 0.9548, Test Acc: 0.9215\n",
            "Epoch: 095, Train Acc: 0.9570, Test Acc: 0.9301\n",
            "Epoch: 096, Train Acc: 0.9638, Test Acc: 0.9387\n",
            "Epoch: 097, Train Acc: 0.9608, Test Acc: 0.9429\n",
            "Epoch: 098, Train Acc: 0.9552, Test Acc: 0.9415\n",
            "Epoch: 099, Train Acc: 0.9559, Test Acc: 0.9301\n"
          ]
        }
      ],
      "source": [
        "for epoch in range(1, 100):\n",
        "  train()\n",
        "  train_acc = test(train_loader)\n",
        "  test_acc = test(test_loader)\n",
        "  print(f'Epoch: {epoch:03d}, Train Acc: {train_acc:.4f}, Test Acc: {test_acc:.4f}')"
      ]
    },
    {
      "cell_type": "code",
      "source": [],
      "metadata": {
        "id": "mErJqniav_5B"
      },
      "execution_count": 37,
      "outputs": []
    }
  ],
  "metadata": {
    "accelerator": "GPU",
    "colab": {
      "collapsed_sections": [
        "EposkOv0AuG8"
      ],
      "provenance": [],
      "authorship_tag": "ABX9TyMYSQ66f8LZS7ugZI5zSUqr",
      "include_colab_link": true
    },
    "gpuClass": "standard",
    "kernelspec": {
      "display_name": "Python 3",
      "name": "python3"
    },
    "language_info": {
      "name": "python"
    }
  },
  "nbformat": 4,
  "nbformat_minor": 0
}